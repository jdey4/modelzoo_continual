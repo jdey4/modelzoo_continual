{
 "cells": [
  {
   "cell_type": "code",
   "execution_count": null,
   "id": "8edb8104",
   "metadata": {},
   "outputs": [],
   "source": [
    "import numpy as np\n",
    "import torch\n",
    "import tqdm\n",
    "import torch.nn as nn\n",
    "import matplotlib.pyplot as plt\n",
    "\n",
    "import torchvision\n",
    "import torchvision.transforms as transforms\n",
    "import torch.optim as optim\n",
    "\n",
    "from torch.utils.data import Dataset\n",
    "from torch.utils.data import DataLoader\n",
    "from tqdm import tqdm\n",
    "import pandas as pd\n",
    "import pickle"
   ]
  },
  {
   "cell_type": "code",
   "execution_count": null,
   "id": "9170da52",
   "metadata": {},
   "outputs": [],
   "source": [
    "dev = 'cpu'\n",
    "EPISODES = 20"
   ]
  },
  {
   "cell_type": "code",
   "execution_count": null,
   "id": "3636e2b6",
   "metadata": {},
   "outputs": [],
   "source": [
    "class MyDataloader(torch.utils.data.Dataset):\n",
    "    def __init__(self, X, Y):\n",
    "        self.data = X / 255.\n",
    "        self.targets = Y\n",
    "\n",
    "    def __len__(self):\n",
    "        return len(self.data)\n",
    "\n",
    "    def __getitem__(self, idx):\n",
    "        return torch.from_numpy((self.data[idx] - 0.5) * 2).float(), self.targets[idx]\n"
   ]
  }
 ],
 "metadata": {
  "kernelspec": {
   "display_name": "Python 3 (ipykernel)",
   "language": "python",
   "name": "python3"
  },
  "language_info": {
   "codemirror_mode": {
    "name": "ipython",
    "version": 3
   },
   "file_extension": ".py",
   "mimetype": "text/x-python",
   "name": "python",
   "nbconvert_exporter": "python",
   "pygments_lexer": "ipython3",
   "version": "3.9.12"
  }
 },
 "nbformat": 4,
 "nbformat_minor": 5
}
